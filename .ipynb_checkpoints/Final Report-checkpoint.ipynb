{
 "cells": [
  {
   "cell_type": "markdown",
   "metadata": {},
   "source": [
    "### CS/ECE/ISyE 524 &mdash; Introduction to Optimization &mdash; Summer 2021 ###\n",
    "\n",
    "# Transportation Optimization Model based on Minimum Cost Network Flow #\n",
    "# Project proposal #\n",
    "\n",
    "#### Boyuan Lu (blu38@wisc.edu), Junda Chen (jchen693@wisc.edu)\n",
    "\n",
    "### Table of Contents\n",
    "\n",
    "1. [Introduction and Data Acquisition](#1.-Introduction)\n",
    "1. [Mathematical Model](#2.-Mathematical-model)\n"
   ]
  },
  {
   "cell_type": "markdown",
   "metadata": {},
   "source": [
    "## 1. Introduction and Data Acquisition ##\n",
    "\n",
    "The transportation network (also called traffic road network) is a common structure of pathways for the mobilized vehicle and pedestrian [add citation]. The transportation network essentially consists of two components: the intersection with multiple entries and exits, and the road either directional or bi-directional. These specific real-world structures can be interpreted and converted with Network Flow problems. The roads will be viewed as edges with specific capacities and the intersection for roads can be simplified into the nodes in Network Flow problems. Figure 1(a) shows maps of traffic maps in Isthmus, Madison, and corresponding network flow.   \n",
    "![alt text](fig1.jpg \"figure 1\")\n",
    "The objective of this study is to use the Minimum Cost Network Flow Model to simulate the traffic flow around the Isthmus area-Madison City. The traffic data will be collected from the Department of Transportation-Wisconsin, and preprocessed to construct a simplified but valid network model. The MNFP will be the principal approach to solve the optimization model. In advance, to simulate the pattern of movement of vehicles, which will include the vehicle speed, vehicle parking, traffic jamming, we will introduce the multi-period linear programming for interests of exploring.  \n",
    "\n",
    "The source of transports data was collected between 2013 to 2014 by the Department of Transportation-Wisconsin [add citation]. The continuous data counts vary from hourly to weekly and the time series we adapt will be the weekly average data for the purpose of simplification. Furthermore, to simulate the vary pattern caused by car parking or loading, the Parking Garages & Lots Web Map from DOT will also be our data source. The details of constructing the traffic network will be illustrated in the second secession.  \n",
    "![alt text](fig2.jpg \"figure 2\")\n",
    "\n"
   ]
  },
  {
   "cell_type": "markdown",
   "metadata": {},
   "source": [
    "## 2. Mathematical model ##\n",
    "\n",
    "### 2.1 Network constructing ###\n"
   ]
  },
  {
   "cell_type": "code",
   "execution_count": null,
   "metadata": {},
   "outputs": [],
   "source": []
  }
 ],
 "metadata": {
  "kernelspec": {
   "display_name": "Julia 1.6.1",
   "language": "julia",
   "name": "julia-1.6"
  },
  "language_info": {
   "file_extension": ".jl",
   "mimetype": "application/julia",
   "name": "julia",
   "version": "1.6.1"
  }
 },
 "nbformat": 4,
 "nbformat_minor": 2
}
